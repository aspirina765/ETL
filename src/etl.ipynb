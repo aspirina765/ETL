{
 "cells": [
  {
   "cell_type": "code",
   "execution_count": null,
   "id": "f4c57efc-f310-4bbe-b13c-c7a95d5b2235",
   "metadata": {},
   "outputs": [],
   "source": [
    "!pip install -r requirements.txt"
   ]
  },
  {
   "cell_type": "code",
   "execution_count": 2,
   "id": "cbd53330-a8e6-4533-9821-e23e7fd37574",
   "metadata": {},
   "outputs": [],
   "source": [
    "# Importa SparkSession\n",
    "from pyspark.sql import SparkSession\n",
    "\n",
    "spark = SparkSession.builder.master(\"local[1]\").appName(\"lucasAppEleflow\").config(\"spark.sql.catalogImplementation\",\"hive\").enableHiveSupport().getOrCreate()"
   ]
  },
  {
   "cell_type": "code",
   "execution_count": 3,
   "id": "9d218838-08bf-4bf9-8fca-5b131206cfe9",
   "metadata": {},
   "outputs": [],
   "source": [
    "# !pip freeze >> requirements.txt"
   ]
  },
  {
   "cell_type": "code",
   "execution_count": 5,
   "id": "a79dc4c0-c793-4158-9c4d-9831e813bbba",
   "metadata": {},
   "outputs": [
    {
     "data": {
      "text/plain": [
       "'/home/jovyan/work/src'"
      ]
     },
     "execution_count": 5,
     "metadata": {},
     "output_type": "execute_result"
    }
   ],
   "source": [
    "os.getcwd()"
   ]
  },
  {
   "cell_type": "code",
   "execution_count": 4,
   "id": "52f8d41c-a246-4094-88b9-23cd5f400651",
   "metadata": {},
   "outputs": [],
   "source": [
    "# Importação de bibliotecas \n",
    "import os \n",
    "import json \n",
    "import re\n",
    "from pyspark.sql.functions import col\n",
    "import unidecode\n",
    "import pyspark.sql.functions"
   ]
  },
  {
   "cell_type": "code",
   "execution_count": 4,
   "id": "2361717b-222b-4d1a-a992-1235a42daa19",
   "metadata": {},
   "outputs": [
    {
     "name": "stdout",
     "output_type": "stream",
     "text": [
      "/home/jovyan/work\n"
     ]
    }
   ],
   "source": [
    "# Pega caminho do diretório para trabalho \n",
    "from utils import get_project_root\n",
    "\n",
    "root_dir = get_project_root()\n",
    "print(root_dir)"
   ]
  },
  {
   "cell_type": "code",
   "execution_count": 5,
   "id": "f3cc3eca-6ade-4e07-87af-1bcd54b9a9d6",
   "metadata": {},
   "outputs": [
    {
     "data": {
      "text/plain": [
       "'/home/jovyan/work/AIR_CIA'"
      ]
     },
     "execution_count": 5,
     "metadata": {},
     "output_type": "execute_result"
    }
   ],
   "source": [
    "# Caminho da pasta /VRA\n",
    "path_VRA = os.path.join(root_dir, 'VRA') \n",
    "path_AIR_CIA = os.path.join(root_dir, 'AIR_CIA')\n",
    "path_AIR_CIA"
   ]
  },
  {
   "cell_type": "code",
   "execution_count": 6,
   "id": "1e74c3be-2b58-4c1a-8d74-88c64fede567",
   "metadata": {},
   "outputs": [
    {
     "data": {
      "text/plain": [
       "['ANAC_20211220_203627.csv',\n",
       " 'ANAC_20211220_203643.csv',\n",
       " 'ANAC_20211220_203733.csv',\n",
       " '.~lock.ANAC_20211220_203733.csv#',\n",
       " 'airport_api_data.csv']"
      ]
     },
     "execution_count": 6,
     "metadata": {},
     "output_type": "execute_result"
    }
   ],
   "source": [
    "# Lista de todos os arquivos .json da pasta /VRA\n",
    "list_files_VRA = [f for f in os.listdir(path_VRA) if len(re.findall('.json',f))!=0]\n",
    "list_files_AIR_CIA = [f for f in os.listdir(path_AIR_CIA) if len(re.findall('.csv',f))!=0]\n",
    "list_files_AIR_CIA"
   ]
  },
  {
   "cell_type": "code",
   "execution_count": 7,
   "id": "19f58d49-568f-454c-8385-cca9e5c5fddb",
   "metadata": {},
   "outputs": [],
   "source": [
    "# Função que converte strings em CamelCase para snake_case\n",
    "def camel_to_snake(name):\n",
    "    name = re.sub('(.)([A-Z][a-z]+)', r'\\1_\\2', name)\n",
    "    name = unidecode.unidecode(name)\n",
    "    return re.sub('([a-z0-9])([A-Z])', r'\\1_\\2', name).lower()"
   ]
  },
  {
   "cell_type": "code",
   "execution_count": 8,
   "id": "7e171172-2de1-4197-bbfd-28bc71b89da8",
   "metadata": {},
   "outputs": [],
   "source": [
    "# Função que converte (e salva) cada um dos arquivos .json da pasta /VRA para terem cabeçalho em snake_case\n",
    "def convert_header_to_snake_case_VRA(i):\n",
    "    try: \n",
    "        df = spark.read.json(path_VRA +'/'+ list_files_VRA[i])\n",
    "        mapping = dict([[c,camel_to_snake(c)] for c in df.columns])\n",
    "        df = df.select([col(c).alias(mapping.get(c, c)) for c in df.columns])\n",
    "        df.toPandas().to_json(path_VRA+'/'+list_files_VRA[i], orient='records', force_ascii=False, lines=True)\n",
    "        del df\n",
    "        print(r\"O arquivo {file} da pasta /VRA agora tem cabeçalho em snake_case!\".format(file=list_files_VRA[i]))\n",
    "    except Exception as e:\n",
    "        print(e)"
   ]
  },
  {
   "cell_type": "code",
   "execution_count": 9,
   "id": "6331210f-866f-4819-b316-e5ad2e0b4af8",
   "metadata": {},
   "outputs": [
    {
     "name": "stdout",
     "output_type": "stream",
     "text": [
      "O arquivo VRA_20211.json da pasta /VRA agora tem cabeçalho em snake_case!\n",
      "O arquivo VRA_202110.json da pasta /VRA agora tem cabeçalho em snake_case!\n",
      "O arquivo VRA_202111.json da pasta /VRA agora tem cabeçalho em snake_case!\n",
      "O arquivo VRA_20212.json da pasta /VRA agora tem cabeçalho em snake_case!\n",
      "O arquivo VRA_20213.json da pasta /VRA agora tem cabeçalho em snake_case!\n",
      "O arquivo VRA_20214.json da pasta /VRA agora tem cabeçalho em snake_case!\n",
      "O arquivo VRA_20215.json da pasta /VRA agora tem cabeçalho em snake_case!\n",
      "O arquivo VRA_20216.json da pasta /VRA agora tem cabeçalho em snake_case!\n",
      "O arquivo VRA_20217.json da pasta /VRA agora tem cabeçalho em snake_case!\n",
      "O arquivo VRA_20218.json da pasta /VRA agora tem cabeçalho em snake_case!\n",
      "O arquivo VRA_20219.json da pasta /VRA agora tem cabeçalho em snake_case!\n"
     ]
    },
    {
     "data": {
      "text/plain": [
       "[None, None, None, None, None, None, None, None, None, None, None]"
      ]
     },
     "execution_count": 9,
     "metadata": {},
     "output_type": "execute_result"
    }
   ],
   "source": [
    "# Normaliza e salva todos arquivos .json da pasta /VRA para terem cabeçalho em snake_case\n",
    "[convert_header_to_snake_case_VRA(j) for j in range(len(list_files_VRA))]"
   ]
  },
  {
   "cell_type": "code",
   "execution_count": 10,
   "id": "75da28c7-c9f8-4b97-900d-3399e2ff61a9",
   "metadata": {},
   "outputs": [
    {
     "data": {
      "text/plain": [
       "'razao_e-mail'"
      ]
     },
     "execution_count": 10,
     "metadata": {},
     "output_type": "execute_result"
    }
   ],
   "source": [
    "# re.sub(' ',r'_',lc[0]).lower()\n",
    "# Função que converte strings em CamelCase para snake_case\n",
    "def upper_to_snake(name):\n",
    "    name = re.sub(' ',r'_',name)\n",
    "    name = unidecode.unidecode(name)\n",
    "    name = re.sub('(.)([A-Z][a-z]+)', r'\\1\\2', name).lower()\n",
    "    return name \n",
    "upper_to_snake('Razão e-mail')"
   ]
  },
  {
   "cell_type": "code",
   "execution_count": 11,
   "id": "9d4bedab-fd2c-49ef-84e5-b9d94b7e3d2a",
   "metadata": {},
   "outputs": [],
   "source": [
    "# Função que converte (e salva) cada um dos arquivos .csv da pasta /VRA para terem cabeçalho em snake_case\n",
    "def convert_header_to_snake_case_AIR_CIA(i):\n",
    "    try: \n",
    "        df = spark.read.options(delimiter=';', header='True').csv(path_AIR_CIA +'/'+ list_files_AIR_CIA[i])\n",
    "        mapping = dict([[c,upper_to_snake(c)] for c in df.columns])\n",
    "        df = df.select([col(c).alias(mapping.get(c, c)) for c in df.columns])\n",
    "        split_col = pyspark.sql.functions.split(df['icao_iata'], r' ')\n",
    "        df = df.withColumn('icao', split_col.getItem(0)) \\\n",
    "               .withColumn('iata', split_col.getItem(1))\n",
    "        df.show(truncate=False)\n",
    "        df.toPandas().to_csv(path_AIR_CIA+'/'+list_files_AIR_CIA[i])\n",
    "        # df.printSchema()\n",
    "        # df.show()\n",
    "        del df\n",
    "        print(r\"O arquivo {file} da pasta /AIR_CIA agora tem cabeçalho em snake_case!\".format(file=list_files_AIR_CIA[i]))\n",
    "    except Exception as e:\n",
    "        print(e)"
   ]
  },
  {
   "cell_type": "code",
   "execution_count": 12,
   "id": "7a680f5e-5337-4555-aa6c-62e3cc594924",
   "metadata": {},
   "outputs": [
    {
     "name": "stdout",
     "output_type": "stream",
     "text": [
      "Cannot resolve column name \"icao_iata\" among (,razao_social,icao_iata,cnpj,atividades_aereas,endereco_sede,telefone,e-mail,decisao_operacional,data_decisao_operacional,validade_operacional,icao,iata)\n",
      "Cannot resolve column name \"icao_iata\" among (,razao_social,icao_iata,cnpj,atividades_aereas,endereco_sede,telefone,e-mail,decisao_operacional,data_decisao_operacional,validade_operacional,icao,iata)\n",
      "Cannot resolve column name \"icao_iata\" among (,razao_social,icao_iata,cnpj,atividades_aereas,endereco_sede,telefone,e-mail,decisao_operacional,data_decisao_operacional,validade_operacional,icao,iata)\n",
      "Unable to infer schema for CSV. It must be specified manually.\n",
      "Cannot resolve column name \"icao_iata\" among (id,iata,icao,name,location,street_number,street,city,county,state,country_iso,country,postal_code,phone,latitude,longitude,uct,website,error)\n"
     ]
    },
    {
     "data": {
      "text/plain": [
       "[None, None, None, None, None]"
      ]
     },
     "execution_count": 12,
     "metadata": {},
     "output_type": "execute_result"
    }
   ],
   "source": [
    "# Normaliza e salva todos arquivos .csv da pasta /AIR_CIA para terem cabeçalho em snake_case\n",
    "[convert_header_to_snake_case_AIR_CIA(j) for j in range(len(list_files_AIR_CIA))]"
   ]
  },
  {
   "cell_type": "code",
   "execution_count": 13,
   "id": "b81fdcee-c035-42a8-8c4f-ded3a4502c52",
   "metadata": {},
   "outputs": [
    {
     "data": {
      "text/html": [
       "<div>\n",
       "<style scoped>\n",
       "    .dataframe tbody tr th:only-of-type {\n",
       "        vertical-align: middle;\n",
       "    }\n",
       "\n",
       "    .dataframe tbody tr th {\n",
       "        vertical-align: top;\n",
       "    }\n",
       "\n",
       "    .dataframe thead th {\n",
       "        text-align: right;\n",
       "    }\n",
       "</style>\n",
       "<table border=\"1\" class=\"dataframe\">\n",
       "  <thead>\n",
       "    <tr style=\"text-align: right;\">\n",
       "      <th></th>\n",
       "      <th>_c0</th>\n",
       "      <th>razao_social</th>\n",
       "      <th>icao_iata</th>\n",
       "      <th>cnpj</th>\n",
       "      <th>atividades_aereas</th>\n",
       "      <th>endereco_sede</th>\n",
       "      <th>telefone</th>\n",
       "      <th>e-mail</th>\n",
       "      <th>decisao_operacional</th>\n",
       "      <th>data_decisao_operacional</th>\n",
       "      <th>validade_operacional</th>\n",
       "      <th>icao</th>\n",
       "      <th>iata</th>\n",
       "    </tr>\n",
       "  </thead>\n",
       "  <tbody>\n",
       "    <tr>\n",
       "      <th>0</th>\n",
       "      <td>0</td>\n",
       "      <td>ABSA - AEROLINHAS BRASILEIRAS S.A.</td>\n",
       "      <td>LTG M3</td>\n",
       "      <td>00.074.635/0001-33</td>\n",
       "      <td>TRANSPORTE AÉREO REGULAR</td>\n",
       "      <td>AEROPORTO INTERNACIONAL DE VIRACOPOS, RODOVIA ...</td>\n",
       "      <td>(11) 5582-8055</td>\n",
       "      <td>gar@tam.com.br</td>\n",
       "      <td>DECISÃO Nº 41</td>\n",
       "      <td>22/04/2015</td>\n",
       "      <td>23/04/2025</td>\n",
       "      <td>LTG</td>\n",
       "      <td>M3</td>\n",
       "    </tr>\n",
       "    <tr>\n",
       "      <th>1</th>\n",
       "      <td>1</td>\n",
       "      <td>AEROSUL TÁXI AÉREO LTDA (EX.: AUSTEN TÁXI AÉRE...</td>\n",
       "      <td>ASO 2S</td>\n",
       "      <td>27.315.694/0001-02</td>\n",
       "      <td>SERVIÇOS AÉREOS PÚBLICOS, TÁXI-AÉREO, TRANSPOR...</td>\n",
       "      <td>RODOVIA PR 218, KM 7, JARDIM UNIVERSITÁRIO, AE...</td>\n",
       "      <td>(43) 3176-4030</td>\n",
       "      <td>operacoes@aerosul.com.br</td>\n",
       "      <td>DECISÃO Nº 282</td>\n",
       "      <td>10/02/2021</td>\n",
       "      <td>None</td>\n",
       "      <td>ASO</td>\n",
       "      <td>2S</td>\n",
       "    </tr>\n",
       "    <tr>\n",
       "      <th>2</th>\n",
       "      <td>2</td>\n",
       "      <td>ASTA LINHAS AÉREAS LTDA ( EX - AMÉRICA DO SUL ...</td>\n",
       "      <td>SUL 0A</td>\n",
       "      <td>12.703.737/0001-50</td>\n",
       "      <td>SERVIÇOS AÉREOS PÚBLICOS, TRANSPORTE AÉREO REG...</td>\n",
       "      <td>AV GOVERNADOR JOÃO PONCE DE ARRUDA, S/N, HANGA...</td>\n",
       "      <td>(65) 3614-2684 / (18) 2104-1000</td>\n",
       "      <td>None</td>\n",
       "      <td>DECISÃO Nº 115</td>\n",
       "      <td>31/07/2019</td>\n",
       "      <td>02/08/2024</td>\n",
       "      <td>SUL</td>\n",
       "      <td>0A</td>\n",
       "    </tr>\n",
       "    <tr>\n",
       "      <th>3</th>\n",
       "      <td>3</td>\n",
       "      <td>ATA - AEROTÁXI ABAETÉ LTDA.</td>\n",
       "      <td>ABJ</td>\n",
       "      <td>14.674.451/0001-19</td>\n",
       "      <td>TÁXI-AÉREO, TRANSPORTE AÉREO NÃO REGULAR, TRAN...</td>\n",
       "      <td>PÇA. GAGO COUTINHO, S/N, AEROPORTO INTERNACIO...</td>\n",
       "      <td>(71) 34629600 / (71) 996643563</td>\n",
       "      <td>guilherme@abaete.com.br</td>\n",
       "      <td>DECISÃO Nº 36</td>\n",
       "      <td>05/03/2020</td>\n",
       "      <td>None</td>\n",
       "      <td>ABJ</td>\n",
       "      <td>None</td>\n",
       "    </tr>\n",
       "    <tr>\n",
       "      <th>4</th>\n",
       "      <td>4</td>\n",
       "      <td>AZUL CONECTA LTDA. (EX TWO TAXI AEREO LTDA)</td>\n",
       "      <td>ACN 2F</td>\n",
       "      <td>04.263.318/0001-16</td>\n",
       "      <td>TRANSPORTE AÉREO REGULAR</td>\n",
       "      <td>AVENIDA EMILIO ANTONON, 901, BAIRRO CHÁCARA AE...</td>\n",
       "      <td>(11) 45822355/ (11) 987433988</td>\n",
       "      <td>None</td>\n",
       "      <td>Decisão nº 14, de 25/01/2018</td>\n",
       "      <td>25/01/2018</td>\n",
       "      <td>29/01/2028</td>\n",
       "      <td>ACN</td>\n",
       "      <td>2F</td>\n",
       "    </tr>\n",
       "    <tr>\n",
       "      <th>5</th>\n",
       "      <td>5</td>\n",
       "      <td>AZUL LINHAS AÉREAS BRASILEIRAS S/A</td>\n",
       "      <td>AZU AD</td>\n",
       "      <td>09.296.295/0001-60</td>\n",
       "      <td>TRANSPORTE AÉREO REGULAR</td>\n",
       "      <td>AV. MARCOS PENTEADO ULHÔA RODRIGUES,N°939, 9° ...</td>\n",
       "      <td>(55) (11) 4134-9887 | Fax: (55)(11)4134-9890</td>\n",
       "      <td>vanessa.reis@voeazul.com.br</td>\n",
       "      <td>Decisão nº 178</td>\n",
       "      <td>20/11/2018</td>\n",
       "      <td>21/11/2028</td>\n",
       "      <td>AZU</td>\n",
       "      <td>AD</td>\n",
       "    </tr>\n",
       "    <tr>\n",
       "      <th>6</th>\n",
       "      <td>6</td>\n",
       "      <td>GOL LINHAS AÉREAS S.A. (EX- VRG LINHAS AÉREAS ...</td>\n",
       "      <td>GLO G3</td>\n",
       "      <td>07.575.651/0001-59</td>\n",
       "      <td>TRANSPORTE AÉREO REGULAR</td>\n",
       "      <td>PRAÇA SENADOR SALGADO FILHO, S/N°, AEROPORTO S...</td>\n",
       "      <td>(11) 5098-2990 / (11) 5098-7872</td>\n",
       "      <td>rddfonseca@voegol.com.br</td>\n",
       "      <td>DECISÃO Nº 156</td>\n",
       "      <td>05/11/2019</td>\n",
       "      <td>None</td>\n",
       "      <td>GLO</td>\n",
       "      <td>G3</td>\n",
       "    </tr>\n",
       "    <tr>\n",
       "      <th>7</th>\n",
       "      <td>7</td>\n",
       "      <td>MAP TRANSPORTES AÉREOS LTDA.</td>\n",
       "      <td>PAM 7M</td>\n",
       "      <td>10.483.635/0001-40</td>\n",
       "      <td>TRANSPORTE AÉREO REGULAR</td>\n",
       "      <td>AVENIDA SANTOS DUMONT, Nº 1350, AEROPORTO INTE...</td>\n",
       "      <td>(92) 36521620</td>\n",
       "      <td>contabil@voemap.com.br</td>\n",
       "      <td>DECISÃO Nº 89</td>\n",
       "      <td>14/08/2012</td>\n",
       "      <td>17/08/2022</td>\n",
       "      <td>PAM</td>\n",
       "      <td>7M</td>\n",
       "    </tr>\n",
       "    <tr>\n",
       "      <th>8</th>\n",
       "      <td>8</td>\n",
       "      <td>MODERN TRANSPORTE AEREO DE CARGA S.A</td>\n",
       "      <td>MWM WD</td>\n",
       "      <td>03.887.831/0001-15</td>\n",
       "      <td>TRANSPORTE AÉREO REGULAR</td>\n",
       "      <td>AVENIDA PREFEITO LUIZ LATORRE, Nº 9450, CONDOM...</td>\n",
       "      <td>(21) 2272-9272 / (11) 31096750</td>\n",
       "      <td>juridico@modern.com.br</td>\n",
       "      <td>DECISÃO Nº 79</td>\n",
       "      <td>31/05/2017</td>\n",
       "      <td>02/06/2027</td>\n",
       "      <td>MWM</td>\n",
       "      <td>WD</td>\n",
       "    </tr>\n",
       "    <tr>\n",
       "      <th>9</th>\n",
       "      <td>9</td>\n",
       "      <td>PASSAREDO TRANSPORTES AÉREOS S.A.</td>\n",
       "      <td>PTB 2Z</td>\n",
       "      <td>00.512.777/0001-35</td>\n",
       "      <td>TRANSPORTE AÉREO REGULAR</td>\n",
       "      <td>SETOR DE HANGARES. ENTRADA PELA AV. THOMAZ ALB...</td>\n",
       "      <td>(16) 3514-7127 / (16) 3514-7126</td>\n",
       "      <td>juridico@voepass.com.br</td>\n",
       "      <td>DECISÃO Nº 105</td>\n",
       "      <td>09/06/2020</td>\n",
       "      <td>None</td>\n",
       "      <td>PTB</td>\n",
       "      <td>2Z</td>\n",
       "    </tr>\n",
       "    <tr>\n",
       "      <th>10</th>\n",
       "      <td>10</td>\n",
       "      <td>SIDERAL LINHAS AÉREAS LTDA.</td>\n",
       "      <td>SID 0S</td>\n",
       "      <td>10.919.908/0001-57</td>\n",
       "      <td>TRANSPORTE AÉREO NÃO REGULAR, TRANSPORTE AÉREO...</td>\n",
       "      <td>RODOVIA CONTORNO LESTE BR-116, Nº 9.119, 3º AN...</td>\n",
       "      <td>(41) 3116-9000 / (41) 3116-9059</td>\n",
       "      <td>office@siderallinhasaereas.com.br</td>\n",
       "      <td>DECISÃO Nº 37</td>\n",
       "      <td>05/03/2020</td>\n",
       "      <td>06/03/2025</td>\n",
       "      <td>SID</td>\n",
       "      <td>0S</td>\n",
       "    </tr>\n",
       "    <tr>\n",
       "      <th>11</th>\n",
       "      <td>11</td>\n",
       "      <td>TAM LINHAS AÉREAS S.A.</td>\n",
       "      <td>TAM JJ</td>\n",
       "      <td>02.012.862/0001-60</td>\n",
       "      <td>TRANSPORTE AÉREO REGULAR</td>\n",
       "      <td>RUA ÁTICA , N° 673, 6ª ANDAR, SALA 62, JARDIM ...</td>\n",
       "      <td>(11) 5582-8055 / (11) 5582-8050</td>\n",
       "      <td>gar@tam.com.br</td>\n",
       "      <td>DECISÃO Nº 366</td>\n",
       "      <td>07/07/2021</td>\n",
       "      <td>09/11/2031</td>\n",
       "      <td>TAM</td>\n",
       "      <td>JJ</td>\n",
       "    </tr>\n",
       "    <tr>\n",
       "      <th>12</th>\n",
       "      <td>12</td>\n",
       "      <td>TOTAL LINHAS AÉREAS S.A.</td>\n",
       "      <td>TTL L1</td>\n",
       "      <td>32.068.363/0001-55</td>\n",
       "      <td>SERVIÇOS AÉREOS PÚBLICOS, TRANSPORTE AÉREO REG...</td>\n",
       "      <td>AV. SENADOR SALGADO FILHO, 5397 SALA D - BAIRR...</td>\n",
       "      <td>(41) 3371-8200 / (31) 3343-8600</td>\n",
       "      <td>geraldo.antonio@total.com.br</td>\n",
       "      <td>DECISÃO Nº 260</td>\n",
       "      <td>12/01/2021</td>\n",
       "      <td>14/01/2031</td>\n",
       "      <td>TTL</td>\n",
       "      <td>L1</td>\n",
       "    </tr>\n",
       "  </tbody>\n",
       "</table>\n",
       "</div>"
      ],
      "text/plain": [
       "   _c0                                       razao_social icao_iata  \\\n",
       "0    0                 ABSA - AEROLINHAS BRASILEIRAS S.A.    LTG M3   \n",
       "1    1  AEROSUL TÁXI AÉREO LTDA (EX.: AUSTEN TÁXI AÉRE...    ASO 2S   \n",
       "2    2  ASTA LINHAS AÉREAS LTDA ( EX - AMÉRICA DO SUL ...    SUL 0A   \n",
       "3    3                        ATA - AEROTÁXI ABAETÉ LTDA.       ABJ   \n",
       "4    4        AZUL CONECTA LTDA. (EX TWO TAXI AEREO LTDA)    ACN 2F   \n",
       "5    5                 AZUL LINHAS AÉREAS BRASILEIRAS S/A    AZU AD   \n",
       "6    6  GOL LINHAS AÉREAS S.A. (EX- VRG LINHAS AÉREAS ...    GLO G3   \n",
       "7    7                       MAP TRANSPORTES AÉREOS LTDA.    PAM 7M   \n",
       "8    8               MODERN TRANSPORTE AEREO DE CARGA S.A    MWM WD   \n",
       "9    9                  PASSAREDO TRANSPORTES AÉREOS S.A.    PTB 2Z   \n",
       "10  10                        SIDERAL LINHAS AÉREAS LTDA.    SID 0S   \n",
       "11  11                             TAM LINHAS AÉREAS S.A.    TAM JJ   \n",
       "12  12                           TOTAL LINHAS AÉREAS S.A.    TTL L1   \n",
       "\n",
       "                  cnpj                                  atividades_aereas  \\\n",
       "0   00.074.635/0001-33                           TRANSPORTE AÉREO REGULAR   \n",
       "1   27.315.694/0001-02  SERVIÇOS AÉREOS PÚBLICOS, TÁXI-AÉREO, TRANSPOR...   \n",
       "2   12.703.737/0001-50  SERVIÇOS AÉREOS PÚBLICOS, TRANSPORTE AÉREO REG...   \n",
       "3   14.674.451/0001-19  TÁXI-AÉREO, TRANSPORTE AÉREO NÃO REGULAR, TRAN...   \n",
       "4   04.263.318/0001-16                           TRANSPORTE AÉREO REGULAR   \n",
       "5   09.296.295/0001-60                           TRANSPORTE AÉREO REGULAR   \n",
       "6   07.575.651/0001-59                           TRANSPORTE AÉREO REGULAR   \n",
       "7   10.483.635/0001-40                           TRANSPORTE AÉREO REGULAR   \n",
       "8   03.887.831/0001-15                           TRANSPORTE AÉREO REGULAR   \n",
       "9   00.512.777/0001-35                           TRANSPORTE AÉREO REGULAR   \n",
       "10  10.919.908/0001-57  TRANSPORTE AÉREO NÃO REGULAR, TRANSPORTE AÉREO...   \n",
       "11  02.012.862/0001-60                           TRANSPORTE AÉREO REGULAR   \n",
       "12  32.068.363/0001-55  SERVIÇOS AÉREOS PÚBLICOS, TRANSPORTE AÉREO REG...   \n",
       "\n",
       "                                        endereco_sede  \\\n",
       "0   AEROPORTO INTERNACIONAL DE VIRACOPOS, RODOVIA ...   \n",
       "1   RODOVIA PR 218, KM 7, JARDIM UNIVERSITÁRIO, AE...   \n",
       "2   AV GOVERNADOR JOÃO PONCE DE ARRUDA, S/N, HANGA...   \n",
       "3    PÇA. GAGO COUTINHO, S/N, AEROPORTO INTERNACIO...   \n",
       "4   AVENIDA EMILIO ANTONON, 901, BAIRRO CHÁCARA AE...   \n",
       "5   AV. MARCOS PENTEADO ULHÔA RODRIGUES,N°939, 9° ...   \n",
       "6   PRAÇA SENADOR SALGADO FILHO, S/N°, AEROPORTO S...   \n",
       "7   AVENIDA SANTOS DUMONT, Nº 1350, AEROPORTO INTE...   \n",
       "8   AVENIDA PREFEITO LUIZ LATORRE, Nº 9450, CONDOM...   \n",
       "9   SETOR DE HANGARES. ENTRADA PELA AV. THOMAZ ALB...   \n",
       "10  RODOVIA CONTORNO LESTE BR-116, Nº 9.119, 3º AN...   \n",
       "11  RUA ÁTICA , N° 673, 6ª ANDAR, SALA 62, JARDIM ...   \n",
       "12  AV. SENADOR SALGADO FILHO, 5397 SALA D - BAIRR...   \n",
       "\n",
       "                                         telefone  \\\n",
       "0                                  (11) 5582-8055   \n",
       "1                                  (43) 3176-4030   \n",
       "2                 (65) 3614-2684 / (18) 2104-1000   \n",
       "3                  (71) 34629600 / (71) 996643563   \n",
       "4                   (11) 45822355/ (11) 987433988   \n",
       "5    (55) (11) 4134-9887 | Fax: (55)(11)4134-9890   \n",
       "6                 (11) 5098-2990 / (11) 5098-7872   \n",
       "7                                   (92) 36521620   \n",
       "8                  (21) 2272-9272 / (11) 31096750   \n",
       "9                 (16) 3514-7127 / (16) 3514-7126   \n",
       "10                (41) 3116-9000 / (41) 3116-9059   \n",
       "11                (11) 5582-8055 / (11) 5582-8050   \n",
       "12                (41) 3371-8200 / (31) 3343-8600   \n",
       "\n",
       "                                 e-mail           decisao_operacional  \\\n",
       "0                        gar@tam.com.br                 DECISÃO Nº 41   \n",
       "1              operacoes@aerosul.com.br                DECISÃO Nº 282   \n",
       "2                                  None                DECISÃO Nº 115   \n",
       "3          guilherme@abaete.com.br                      DECISÃO Nº 36   \n",
       "4                                  None  Decisão nº 14, de 25/01/2018   \n",
       "5           vanessa.reis@voeazul.com.br                Decisão nº 178   \n",
       "6            rddfonseca@voegol.com.br                  DECISÃO Nº 156   \n",
       "7                contabil@voemap.com.br                 DECISÃO Nº 89   \n",
       "8                juridico@modern.com.br                 DECISÃO Nº 79   \n",
       "9              juridico@voepass.com.br                 DECISÃO Nº 105   \n",
       "10  office@siderallinhasaereas.com.br                   DECISÃO Nº 37   \n",
       "11                    gar@tam.com.br                   DECISÃO Nº 366   \n",
       "12      geraldo.antonio@total.com.br                   DECISÃO Nº 260   \n",
       "\n",
       "   data_decisao_operacional validade_operacional icao  iata  \n",
       "0                22/04/2015           23/04/2025  LTG    M3  \n",
       "1                10/02/2021                 None  ASO    2S  \n",
       "2                31/07/2019           02/08/2024  SUL    0A  \n",
       "3                05/03/2020                 None  ABJ  None  \n",
       "4                25/01/2018           29/01/2028  ACN    2F  \n",
       "5                20/11/2018           21/11/2028  AZU    AD  \n",
       "6                05/11/2019                 None  GLO    G3  \n",
       "7                14/08/2012           17/08/2022  PAM    7M  \n",
       "8                31/05/2017           02/06/2027  MWM    WD  \n",
       "9                09/06/2020                 None  PTB    2Z  \n",
       "10               05/03/2020           06/03/2025  SID    0S  \n",
       "11               07/07/2021           09/11/2031  TAM    JJ  \n",
       "12               12/01/2021           14/01/2031  TTL    L1  "
      ]
     },
     "execution_count": 13,
     "metadata": {},
     "output_type": "execute_result"
    }
   ],
   "source": [
    "dft = spark.read.options(delimiter=',', header='True').csv(path_AIR_CIA +'/'+ list_files_AIR_CIA[0])\n",
    "dfp = dft.toPandas()\n",
    "dfp#['icao']"
   ]
  },
  {
   "cell_type": "code",
   "execution_count": 14,
   "id": "721fa141-5a05-4eec-89a8-5457790746b5",
   "metadata": {},
   "outputs": [
    {
     "data": {
      "text/plain": [
       "['LTG',\n",
       " 'ASO',\n",
       " 'SUL',\n",
       " 'ABJ',\n",
       " 'ACN',\n",
       " 'AZU',\n",
       " 'GLO',\n",
       " 'PAM',\n",
       " 'MWM',\n",
       " 'PTB',\n",
       " 'SID',\n",
       " 'TAM',\n",
       " 'TTL']"
      ]
     },
     "execution_count": 14,
     "metadata": {},
     "output_type": "execute_result"
    }
   ],
   "source": [
    "list_icao = list(dfp['icao']) # 'icao' , 'iata'\n",
    "list_icao"
   ]
  },
  {
   "cell_type": "code",
   "execution_count": 15,
   "id": "80d9d011-9cee-4408-a86d-4e8a67f47f30",
   "metadata": {},
   "outputs": [],
   "source": [
    "from functools import reduce\n",
    "from pyspark.sql import DataFrame\n",
    "\n",
    "SeriesAppend=[]\n",
    "for i in range(len(list_files_VRA)):\n",
    "    temp = spark.read.json(path_VRA +'/'+ list_files_VRA[i])\n",
    "    SeriesAppend.append(temp)\n",
    "df_series = reduce(DataFrame.unionAll, SeriesAppend)\n",
    "# df_series.toPandas()"
   ]
  },
  {
   "cell_type": "code",
   "execution_count": 16,
   "id": "f694a5d4-b355-44b1-8901-85ced0662a75",
   "metadata": {},
   "outputs": [],
   "source": [
    "selected = [s for s in df_series.columns if len(re.findall('icao', s))!=0]\n",
    "df_icao = df_series.select(selected).distinct()"
   ]
  },
  {
   "cell_type": "code",
   "execution_count": 17,
   "id": "91e0e4a7-c863-4b5b-8b8e-2be397cb53d9",
   "metadata": {},
   "outputs": [],
   "source": [
    "def get_unique_icao(i):\n",
    "    temp = set(df_icao.select(df_icao.columns[1]).distinct().toPandas().values.flatten())\n",
    "    return temp\n",
    "\n",
    "list_icao = set({})\n",
    "for i in range(len(df_icao.columns)):\n",
    "    temp = get_unique_icao(i)\n",
    "    list_icao = list_icao.union(temp)\n",
    "# list_icao\n",
    "list_icao = list(list_icao)"
   ]
  },
  {
   "cell_type": "code",
   "execution_count": null,
   "id": "520486ca-cd44-45ea-a7c3-a02a348176af",
   "metadata": {},
   "outputs": [],
   "source": []
  },
  {
   "cell_type": "code",
   "execution_count": 18,
   "id": "0b135901-9405-44af-878b-9e914a3ae348",
   "metadata": {},
   "outputs": [],
   "source": [
    "from pyspark.sql import SparkSession\n",
    "import requests\n",
    "import json\n",
    "from pyspark.sql.functions import udf, col, explode\n",
    "from pyspark.sql.types import StructType, StructField, IntegerType, StringType, ArrayType\n",
    "from pyspark.sql import Row"
   ]
  },
  {
   "cell_type": "code",
   "execution_count": 19,
   "id": "07f48f38-a476-43f1-b9ef-58d9cfa7bfbd",
   "metadata": {},
   "outputs": [
    {
     "data": {
      "text/plain": [
       "'/home/jovyan/work/streaming'"
      ]
     },
     "execution_count": 19,
     "metadata": {},
     "output_type": "execute_result"
    }
   ],
   "source": [
    "from pyspark.sql.types import TimestampType, StringType\n",
    "\n",
    "# Path to our 20 JSON files\n",
    "inputPath = os.path.join(root_dir, 'streaming')\n",
    "# inputPath = root_dir+\"/streaming\"\n",
    "inputPath"
   ]
  },
  {
   "cell_type": "code",
   "execution_count": null,
   "id": "dbad87de-bcca-4a54-8b00-e5bd9b86d0c1",
   "metadata": {},
   "outputs": [],
   "source": []
  },
  {
   "cell_type": "code",
   "execution_count": 20,
   "id": "9864d265-1f0b-4637-9de4-6811302c4f89",
   "metadata": {},
   "outputs": [],
   "source": [
    "import asyncio\n",
    "import aiohttp\n",
    "from pprint import pprint\n",
    "import time\n",
    "\n",
    "def api():\n",
    "    list_res = list()\n",
    "    for i in range(len(list_icao)):\n",
    "        code = list_icao[i]\n",
    "        headers = {\n",
    "                    \"X-RapidAPI-Key\": \"423d333f09mshb6e682cf155805fp1fcec8jsn1f4f54ab45e6\",\n",
    "                    \"X-RapidAPI-Host\": \"airport-info.p.rapidapi.com\"\n",
    "                }\n",
    "\n",
    "        url = \"https://airport-info.p.rapidapi.com/airport\"\n",
    "        querystring = {\"icao\": str(code).upper()}\n",
    "        async def fetch(url, session):\n",
    "            \n",
    "            async with session.get(url, headers=headers, params=querystring) as response:\n",
    "                res = await response.json()\n",
    "                list_res.append(res)\n",
    "                pprint(list_res)\n",
    "                with open(inputPath+'/api_data.json', 'a') as json_file:\n",
    "                    json.dump(res, json_file)\n",
    "                time.sleep(1)\n",
    "                return list_res\n",
    "\n",
    "\n",
    "        async def main():\n",
    "            async with aiohttp.ClientSession() as session:\n",
    "                await fetch(url, session)\n",
    "\n",
    "        try:\n",
    "            loop = asyncio.get_running_loop()\n",
    "        except RuntimeError:  # 'RuntimeError: There is no current event loop...'\n",
    "            loop = None\n",
    "\n",
    "        if loop and loop.is_running():\n",
    "            #print('Async event loop already running. Adding coroutine to the event loop.')\n",
    "            tsk = loop.create_task(main())\n",
    "            # ^-- https://docs.python.org/3/library/asyncio-task.html#task-object\n",
    "            # Optionally, a callback function can be executed when the coroutine completes\n",
    "            tsk.add_done_callback(\n",
    "                lambda t: print(f'Task done with result={t.result()}  << return val of main()'))\n",
    "        else:\n",
    "            #print('Starting new event loop')\n",
    "            asyncio.run(main())\n",
    "# api()"
   ]
  },
  {
   "cell_type": "code",
   "execution_count": 21,
   "id": "51fbb8d0-f15b-40e9-a414-39f10df92fb7",
   "metadata": {},
   "outputs": [
    {
     "ename": "KeyboardInterrupt",
     "evalue": "",
     "output_type": "error",
     "traceback": [
      "\u001b[0;31m---------------------------------------------------------------------------\u001b[0m",
      "\u001b[0;31mKeyboardInterrupt\u001b[0m                         Traceback (most recent call last)",
      "Input \u001b[0;32mIn [21]\u001b[0m, in \u001b[0;36m<cell line: 3>\u001b[0;34m()\u001b[0m\n\u001b[1;32m      2\u001b[0m timeout \u001b[38;5;241m=\u001b[39m time\u001b[38;5;241m.\u001b[39mtime() \u001b[38;5;241m+\u001b[39m \u001b[38;5;241m60\u001b[39m\u001b[38;5;241m*\u001b[39m\u001b[38;5;241m5\u001b[39m   \u001b[38;5;66;03m# 5 minutes from now\u001b[39;00m\n\u001b[1;32m      3\u001b[0m \u001b[38;5;28;01mwhile\u001b[39;00m \u001b[38;5;28;01mTrue\u001b[39;00m:\n\u001b[0;32m----> 4\u001b[0m     \u001b[43mapi\u001b[49m\u001b[43m(\u001b[49m\u001b[43m)\u001b[49m\n\u001b[1;32m      5\u001b[0m     \u001b[38;5;28;01mif\u001b[39;00m time\u001b[38;5;241m.\u001b[39mtime() \u001b[38;5;241m>\u001b[39m timeout:\n\u001b[1;32m      6\u001b[0m         \u001b[38;5;28;01mbreak\u001b[39;00m\n",
      "Input \u001b[0;32mIn [20]\u001b[0m, in \u001b[0;36mapi\u001b[0;34m()\u001b[0m\n\u001b[1;32m     36\u001b[0m     loop \u001b[38;5;241m=\u001b[39m \u001b[38;5;28;01mNone\u001b[39;00m\n\u001b[1;32m     38\u001b[0m \u001b[38;5;28;01mif\u001b[39;00m loop \u001b[38;5;129;01mand\u001b[39;00m loop\u001b[38;5;241m.\u001b[39mis_running():\n\u001b[1;32m     39\u001b[0m     \u001b[38;5;66;03m#print('Async event loop already running. Adding coroutine to the event loop.')\u001b[39;00m\n\u001b[0;32m---> 40\u001b[0m     tsk \u001b[38;5;241m=\u001b[39m \u001b[43mloop\u001b[49m\u001b[38;5;241;43m.\u001b[39;49m\u001b[43mcreate_task\u001b[49m\u001b[43m(\u001b[49m\u001b[43mmain\u001b[49m\u001b[43m(\u001b[49m\u001b[43m)\u001b[49m\u001b[43m)\u001b[49m\n\u001b[1;32m     41\u001b[0m     \u001b[38;5;66;03m# ^-- https://docs.python.org/3/library/asyncio-task.html#task-object\u001b[39;00m\n\u001b[1;32m     42\u001b[0m     \u001b[38;5;66;03m# Optionally, a callback function can be executed when the coroutine completes\u001b[39;00m\n\u001b[1;32m     43\u001b[0m     tsk\u001b[38;5;241m.\u001b[39madd_done_callback(\n\u001b[1;32m     44\u001b[0m         \u001b[38;5;28;01mlambda\u001b[39;00m t: \u001b[38;5;28mprint\u001b[39m(\u001b[38;5;124mf\u001b[39m\u001b[38;5;124m'\u001b[39m\u001b[38;5;124mTask done with result=\u001b[39m\u001b[38;5;132;01m{\u001b[39;00mt\u001b[38;5;241m.\u001b[39mresult()\u001b[38;5;132;01m}\u001b[39;00m\u001b[38;5;124m  << return val of main()\u001b[39m\u001b[38;5;124m'\u001b[39m))\n",
      "File \u001b[0;32m/opt/conda/lib/python3.10/asyncio/base_events.py:438\u001b[0m, in \u001b[0;36mBaseEventLoop.create_task\u001b[0;34m(self, coro, name)\u001b[0m\n\u001b[1;32m    436\u001b[0m \u001b[38;5;28mself\u001b[39m\u001b[38;5;241m.\u001b[39m_check_closed()\n\u001b[1;32m    437\u001b[0m \u001b[38;5;28;01mif\u001b[39;00m \u001b[38;5;28mself\u001b[39m\u001b[38;5;241m.\u001b[39m_task_factory \u001b[38;5;129;01mis\u001b[39;00m \u001b[38;5;28;01mNone\u001b[39;00m:\n\u001b[0;32m--> 438\u001b[0m     task \u001b[38;5;241m=\u001b[39m \u001b[43mtasks\u001b[49m\u001b[38;5;241;43m.\u001b[39;49m\u001b[43mTask\u001b[49m\u001b[43m(\u001b[49m\u001b[43mcoro\u001b[49m\u001b[43m,\u001b[49m\u001b[43m \u001b[49m\u001b[43mloop\u001b[49m\u001b[38;5;241;43m=\u001b[39;49m\u001b[38;5;28;43mself\u001b[39;49m\u001b[43m,\u001b[49m\u001b[43m \u001b[49m\u001b[43mname\u001b[49m\u001b[38;5;241;43m=\u001b[39;49m\u001b[43mname\u001b[49m\u001b[43m)\u001b[49m\n\u001b[1;32m    439\u001b[0m     \u001b[38;5;28;01mif\u001b[39;00m task\u001b[38;5;241m.\u001b[39m_source_traceback:\n\u001b[1;32m    440\u001b[0m         \u001b[38;5;28;01mdel\u001b[39;00m task\u001b[38;5;241m.\u001b[39m_source_traceback[\u001b[38;5;241m-\u001b[39m\u001b[38;5;241m1\u001b[39m]\n",
      "File \u001b[0;32m/opt/conda/lib/python3.10/asyncio/base_events.py:754\u001b[0m, in \u001b[0;36mBaseEventLoop.call_soon\u001b[0;34m(self, callback, context, *args)\u001b[0m\n\u001b[1;32m    752\u001b[0m     \u001b[38;5;28mself\u001b[39m\u001b[38;5;241m.\u001b[39m_check_thread()\n\u001b[1;32m    753\u001b[0m     \u001b[38;5;28mself\u001b[39m\u001b[38;5;241m.\u001b[39m_check_callback(callback, \u001b[38;5;124m'\u001b[39m\u001b[38;5;124mcall_soon\u001b[39m\u001b[38;5;124m'\u001b[39m)\n\u001b[0;32m--> 754\u001b[0m handle \u001b[38;5;241m=\u001b[39m \u001b[38;5;28;43mself\u001b[39;49m\u001b[38;5;241;43m.\u001b[39;49m\u001b[43m_call_soon\u001b[49m\u001b[43m(\u001b[49m\u001b[43mcallback\u001b[49m\u001b[43m,\u001b[49m\u001b[43m \u001b[49m\u001b[43margs\u001b[49m\u001b[43m,\u001b[49m\u001b[43m \u001b[49m\u001b[43mcontext\u001b[49m\u001b[43m)\u001b[49m\n\u001b[1;32m    755\u001b[0m \u001b[38;5;28;01mif\u001b[39;00m handle\u001b[38;5;241m.\u001b[39m_source_traceback:\n\u001b[1;32m    756\u001b[0m     \u001b[38;5;28;01mdel\u001b[39;00m handle\u001b[38;5;241m.\u001b[39m_source_traceback[\u001b[38;5;241m-\u001b[39m\u001b[38;5;241m1\u001b[39m]\n",
      "File \u001b[0;32m/opt/conda/lib/python3.10/asyncio/base_events.py:770\u001b[0m, in \u001b[0;36mBaseEventLoop._call_soon\u001b[0;34m(self, callback, args, context)\u001b[0m\n\u001b[1;32m    769\u001b[0m \u001b[38;5;28;01mdef\u001b[39;00m \u001b[38;5;21m_call_soon\u001b[39m(\u001b[38;5;28mself\u001b[39m, callback, args, context):\n\u001b[0;32m--> 770\u001b[0m     handle \u001b[38;5;241m=\u001b[39m \u001b[43mevents\u001b[49m\u001b[38;5;241;43m.\u001b[39;49m\u001b[43mHandle\u001b[49m\u001b[43m(\u001b[49m\u001b[43mcallback\u001b[49m\u001b[43m,\u001b[49m\u001b[43m \u001b[49m\u001b[43margs\u001b[49m\u001b[43m,\u001b[49m\u001b[43m \u001b[49m\u001b[38;5;28;43mself\u001b[39;49m\u001b[43m,\u001b[49m\u001b[43m \u001b[49m\u001b[43mcontext\u001b[49m\u001b[43m)\u001b[49m\n\u001b[1;32m    771\u001b[0m     \u001b[38;5;28;01mif\u001b[39;00m handle\u001b[38;5;241m.\u001b[39m_source_traceback:\n\u001b[1;32m    772\u001b[0m         \u001b[38;5;28;01mdel\u001b[39;00m handle\u001b[38;5;241m.\u001b[39m_source_traceback[\u001b[38;5;241m-\u001b[39m\u001b[38;5;241m1\u001b[39m]\n",
      "File \u001b[0;32m/opt/conda/lib/python3.10/asyncio/events.py:31\u001b[0m, in \u001b[0;36mHandle.__init__\u001b[0;34m(self, callback, args, loop, context)\u001b[0m\n\u001b[1;32m     25\u001b[0m \u001b[38;5;124;03m\"\"\"Object returned by callback registration methods.\"\"\"\u001b[39;00m\n\u001b[1;32m     27\u001b[0m \u001b[38;5;18m__slots__\u001b[39m \u001b[38;5;241m=\u001b[39m (\u001b[38;5;124m'\u001b[39m\u001b[38;5;124m_callback\u001b[39m\u001b[38;5;124m'\u001b[39m, \u001b[38;5;124m'\u001b[39m\u001b[38;5;124m_args\u001b[39m\u001b[38;5;124m'\u001b[39m, \u001b[38;5;124m'\u001b[39m\u001b[38;5;124m_cancelled\u001b[39m\u001b[38;5;124m'\u001b[39m, \u001b[38;5;124m'\u001b[39m\u001b[38;5;124m_loop\u001b[39m\u001b[38;5;124m'\u001b[39m,\n\u001b[1;32m     28\u001b[0m              \u001b[38;5;124m'\u001b[39m\u001b[38;5;124m_source_traceback\u001b[39m\u001b[38;5;124m'\u001b[39m, \u001b[38;5;124m'\u001b[39m\u001b[38;5;124m_repr\u001b[39m\u001b[38;5;124m'\u001b[39m, \u001b[38;5;124m'\u001b[39m\u001b[38;5;124m__weakref__\u001b[39m\u001b[38;5;124m'\u001b[39m,\n\u001b[1;32m     29\u001b[0m              \u001b[38;5;124m'\u001b[39m\u001b[38;5;124m_context\u001b[39m\u001b[38;5;124m'\u001b[39m)\n\u001b[0;32m---> 31\u001b[0m \u001b[38;5;28;01mdef\u001b[39;00m \u001b[38;5;21m__init__\u001b[39m(\u001b[38;5;28mself\u001b[39m, callback, args, loop, context\u001b[38;5;241m=\u001b[39m\u001b[38;5;28;01mNone\u001b[39;00m):\n\u001b[1;32m     32\u001b[0m     \u001b[38;5;28;01mif\u001b[39;00m context \u001b[38;5;129;01mis\u001b[39;00m \u001b[38;5;28;01mNone\u001b[39;00m:\n\u001b[1;32m     33\u001b[0m         context \u001b[38;5;241m=\u001b[39m contextvars\u001b[38;5;241m.\u001b[39mcopy_context()\n",
      "\u001b[0;31mKeyboardInterrupt\u001b[0m: "
     ]
    }
   ],
   "source": [
    "import time\n",
    "timeout = time.time() + 60*5   # 5 minutes from now\n",
    "while True:\n",
    "    api()\n",
    "    if time.time() > timeout:\n",
    "        break"
   ]
  },
  {
   "cell_type": "markdown",
   "id": "8ed4d38c-473f-4bc9-b319-df5459a07e5a",
   "metadata": {},
   "source": [
    "Criar as seguintes views (Priorize o uso de SQL para esta parte):\n",
    "Para cada companhia aérea trazer a rota mais utilizada com as seguintes informações:\n",
    "* Razão social da companhia aérea\n",
    "* Nome Aeroporto de Origem\n",
    "* ICAO do aeroporto de origem\n",
    "* Estado/UF do aeroporto de origem\n",
    "* * Nome do Aeroporto de Destino\n",
    "* ICAO do Aeroporto de destino\n",
    "* Estado/UF do aeroporto de destino"
   ]
  },
  {
   "cell_type": "code",
   "execution_count": null,
   "id": "c8d9f04a-b75f-4654-8319-16ec94bea387",
   "metadata": {},
   "outputs": [],
   "source": [
    "df_vra = df_series\n",
    "df_vra.columns"
   ]
  },
  {
   "cell_type": "code",
   "execution_count": null,
   "id": "615299a6-0f9c-4c1f-aeab-a54ef3b55970",
   "metadata": {},
   "outputs": [],
   "source": [
    "# df_api.columns\n",
    "df_cia = spark.read.options(delimiter=',', header='True').csv(path_AIR_CIA +'/'+ list_files_AIR_CIA[0])\n",
    "df_cia.columns"
   ]
  },
  {
   "cell_type": "code",
   "execution_count": null,
   "id": "9c623299-0acf-43c8-80c1-76f9efa63b02",
   "metadata": {},
   "outputs": [],
   "source": [
    "df_api = spark.read.json(inputPath+'/personal.json')\n",
    "df_api.columns"
   ]
  },
  {
   "cell_type": "code",
   "execution_count": null,
   "id": "8b225052-158d-486b-be38-d42fdb4989bf",
   "metadata": {},
   "outputs": [],
   "source": [
    "spark.sql(\"create database if not exists db\")"
   ]
  },
  {
   "cell_type": "code",
   "execution_count": null,
   "id": "aa97615c-ac9f-4456-9c80-345ab427c341",
   "metadata": {},
   "outputs": [],
   "source": [
    "try:\n",
    "    df_api.write.format(\"orc\").mode(\"overwrite\").saveAsTable(\"db.api\") # \"append\" , \"overwrite\"\n",
    "    df_cia.write.format(\"orc\").mode(\"overwrite\").saveAsTable(\"db.cia\") \n",
    "    df_vra.write.format(\"orc\").mode(\"overwrite\").saveAsTable(\"db.vra\") \n",
    "except Exception as e:\n",
    "    print(e)"
   ]
  },
  {
   "cell_type": "markdown",
   "id": "f4f5582d-8283-412a-82d3-0568d5e091d9",
   "metadata": {},
   "source": [
    "Criar as seguintes views (Priorize o uso de SQL para esta parte):\n",
    "Para cada companhia aérea trazer a rota mais utilizada com as seguintes informações:\n",
    "* Razão social da companhia aérea\n",
    "* Nome Aeroporto de Origem\n",
    "* ICAO do aeroporto de origem\n",
    "* Estado/UF do aeroporto de origem\n",
    "* * Nome do Aeroporto de Destino\n",
    "* ICAO do Aeroporto de destino\n",
    "* Estado/UF do aeroporto de destino"
   ]
  },
  {
   "cell_type": "code",
   "execution_count": null,
   "id": "d37c136e-8353-439a-a324-ff96caae1b0d",
   "metadata": {},
   "outputs": [],
   "source": [
    "spark.sql(\"select * from db.vra\").toPandas().columns\n",
    "# spark.sql(\"select * from db.cia\").toPandas().columns\n",
    "# spark.sql(\"select * from db.api\").toPandas().columns"
   ]
  },
  {
   "cell_type": "code",
   "execution_count": null,
   "id": "e172b580-160d-4551-9448-7e763dafc736",
   "metadata": {},
   "outputs": [],
   "source": [
    "df_sql1 = spark.sql(\"\"\"\n",
    "            select \n",
    "                d.razao_social,\n",
    "                a.name as nome_aeroporto_de_origem,\n",
    "                b.icao_aerodromo_origem as icao_aeroporto_de_origem,\n",
    "                a.county as uf_aeroporto_de_origem,\n",
    "                e.icao_aerodromo_destino as icao_aeroporto_de_destino,\n",
    "                e.county as uf_aeroporto_de_destino,\n",
    "                e.country_iso\n",
    "            from db.api a\n",
    "            left join (\n",
    "                select * from db.vra\n",
    "            ) b on b.icao_aerodromo_origem = a.icao \n",
    "            left join (\n",
    "                select * from db.cia\n",
    "            ) d on d.icao = b.icao_aerodromo_origem\n",
    "            left join (\n",
    "                            select *\n",
    "            from db.api a1\n",
    "            left join (\n",
    "                select * from db.vra\n",
    "            ) b1 on b1.icao_aerodromo_destino = a1.icao \n",
    "            left join (\n",
    "                select * from db.cia\n",
    "            ) d1 on d1.icao = b1.icao_aerodromo_destino\n",
    "            ) e\n",
    "        \"\"\")\n",
    "df_sql1 = df_sql1.distinct()\n",
    "df_sql1.toPandas()#.columns"
   ]
  },
  {
   "cell_type": "code",
   "execution_count": null,
   "id": "4095d8bc-499d-4eb4-9e69-74f3e469615a",
   "metadata": {},
   "outputs": [],
   "source": [
    "import pyspark.sql.functions as F\n",
    "\n",
    "df_sql1.groupby(['razao_social', 'nome_aeroporto_de_origem', 'icao_aeroporto_de_origem',\n",
    "       'uf_aeroporto_de_origem', 'icao_aeroporto_de_destino',\n",
    "       'uf_aeroporto_de_destino']).count().sort(F.col('count').desc()).toPandas()"
   ]
  },
  {
   "cell_type": "markdown",
   "id": "ebdbc752-0e97-4ef9-be3c-3b3c8457968c",
   "metadata": {},
   "source": [
    "Para cada aeroporto trazer a companhia aérea com maior atuação no ano com as seguintes informações:\n",
    "* Nome do Aeroporto\n",
    "* ICAO do Aeroporto\n",
    "* Razão social da Companhia Aérea\n",
    "* Quantidade de Rotas à partir daquele aeroporto\n",
    "* Quantidade de Rotas com destino àquele aeroporto\n",
    "* Quantidade total de pousos e decolagens naquele aeroporto"
   ]
  },
  {
   "cell_type": "code",
   "execution_count": null,
   "id": "bfc2ddd4-1f9b-45e0-aa75-67086c79aba6",
   "metadata": {},
   "outputs": [],
   "source": [
    "df_sql2 = spark.sql(\"\"\"\n",
    "            select \n",
    "                a.name as nome_do_aeroporto,\n",
    "                b.icao_aerodromo_origem as icao_do_aeroporto,\n",
    "                d.razao_social,\n",
    "                e.icao_aerodromo_destino as icao_aeroporto_de_destino,\n",
    "                e.icao_aerodromo_origem as icao_aeroporto_de_origem\n",
    "            from db.api a\n",
    "            left join (\n",
    "                select * from db.vra\n",
    "            ) b on b.icao_aerodromo_origem = a.icao \n",
    "            left join (\n",
    "                select * from db.cia\n",
    "            ) d on d.icao = b.icao_aerodromo_origem\n",
    "            left join (\n",
    "                            select *\n",
    "            from db.api a1\n",
    "            left join (\n",
    "                select * from db.vra\n",
    "            ) b1 on b1.icao_aerodromo_destino = a1.icao \n",
    "            left join (\n",
    "                select * from db.cia\n",
    "            ) d1 on d1.icao = b1.icao_aerodromo_destino\n",
    "            ) e\n",
    "        \"\"\")\n",
    "df_sql2 = df_sql2.distinct()\n",
    "df_sql2.toPandas()"
   ]
  },
  {
   "cell_type": "code",
   "execution_count": null,
   "id": "9bca2b19-702e-4273-8f8b-7a272ac3c1ce",
   "metadata": {},
   "outputs": [],
   "source": [
    "df_sql2.groupby(['razao_social', 'nome_do_aeroporto', 'icao_do_aeroporto',\n",
    "       'razao_social', 'icao_aeroporto_de_destino',\n",
    "       'icao_aeroporto_de_origem']).count().sort(F.col('count').desc()).toPandas()"
   ]
  },
  {
   "cell_type": "code",
   "execution_count": null,
   "id": "5d4ac0c5-6003-4dd6-a802-6ea8f0d3a27b",
   "metadata": {},
   "outputs": [],
   "source": []
  },
  {
   "cell_type": "code",
   "execution_count": null,
   "id": "ecf70186-4f90-4d28-b006-8bf69cba3337",
   "metadata": {},
   "outputs": [],
   "source": []
  }
 ],
 "metadata": {
  "kernelspec": {
   "display_name": "Python 3 (ipykernel)",
   "language": "python",
   "name": "python3"
  },
  "language_info": {
   "codemirror_mode": {
    "name": "ipython",
    "version": 3
   },
   "file_extension": ".py",
   "mimetype": "text/x-python",
   "name": "python",
   "nbconvert_exporter": "python",
   "pygments_lexer": "ipython3",
   "version": "3.10.5"
  }
 },
 "nbformat": 4,
 "nbformat_minor": 5
}
